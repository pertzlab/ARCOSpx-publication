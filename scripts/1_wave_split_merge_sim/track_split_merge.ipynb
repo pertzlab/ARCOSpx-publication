{
 "cells": [
  {
   "cell_type": "markdown",
   "id": "284ed344",
   "metadata": {},
   "source": [
    "# 2. Track objects in simulated data using ARCOS.px"
   ]
  },
  {
   "cell_type": "code",
   "execution_count": 9,
   "id": "e4dc5b3c",
   "metadata": {},
   "outputs": [],
   "source": [
    "import os\n",
    "import glob\n",
    "import numpy as np\n",
    "import pandas as pd\n",
    "from arcos4py.tools import track_events_image\n",
    "from arcospx import utils\n",
    "\n",
    "from skimage.measure import regionprops, regionprops_table\n",
    "from skimage.util import map_array\n",
    "\n",
    "# TIFF stacks I/O\n",
    "from tifffile import imread, imwrite\n",
    "\n",
    "import napari\n",
    "from napari_timestamper import render_as_rgb"
   ]
  },
  {
   "cell_type": "code",
   "execution_count": 2,
   "id": "267123d5",
   "metadata": {},
   "outputs": [],
   "source": [
    "IMG_NAPARI = True  # Whether to show images in napari\n",
    "\n",
    "def remap_segmentation(\n",
    "    df: pd.DataFrame,\n",
    "    segmentation: list,\n",
    "    timepoint_column: str = \"timepoint\",\n",
    "    label_column: str = \"label\",\n",
    "    measure_column: str = \"lineage\",\n",
    ") -> list:\n",
    "    tracked_numpy = df[[timepoint_column, label_column, measure_column]].sort_values(timepoint_column).to_numpy()\n",
    "    grouped_numpy = np.split(tracked_numpy, np.unique(tracked_numpy[:, 0], return_index=True)[1][1:])\n",
    "    ratio_remapped = []\n",
    "    for img, grp in zip(segmentation, grouped_numpy):\n",
    "        img_copy = map_array(img, grp[:, 1], grp[:, 2])\n",
    "        ratio_remapped.append(img_copy)\n",
    "    return ratio_remapped\n",
    "\n",
    "def track_events(bin_mask, min_clustersize=3, eps=3, downsample=1, n_prev=3, stability_threshold=1):\n",
    "    # Track events\n",
    "    ndarr_events, obj_lin = track_events_image(\n",
    "        bin_mask,\n",
    "        clustering_method=\"dbscan\",\n",
    "        min_clustersize=min_clustersize,\n",
    "        eps=eps,\n",
    "        downsample=downsample,\n",
    "        n_prev=n_prev,\n",
    "        show_progress=False,\n",
    "        allow_merges=True,\n",
    "        allow_splits=True,\n",
    "        remove_small_clusters=True, \n",
    "        stability_threshold=stability_threshold\n",
    "    )\n",
    "\n",
    "    # Filter out lineages shorter than 3 and reflect the filtering on the tracked events\n",
    "    obj_lin_filt = obj_lin.filter(criteria='lineage_duration', min_value=3)\n",
    "    ndarr_events_filt = obj_lin_filt.reflect(ndarr_events)\n",
    "\n",
    "    # Remap the lineage IDs to the tracked events\n",
    "    data_tmp = []\n",
    "\n",
    "    # create a lineage/label df\n",
    "    for i, frame_data in enumerate(ndarr_events_filt):\n",
    "        for event in regionprops(frame_data):\n",
    "            if event.label == 0:\n",
    "                continue\n",
    "            data_tmp.append(\n",
    "                {\n",
    "                    \"timepoint\": i,\n",
    "                    \"event\": event.label,\n",
    "                    \"lineage\": obj_lin_filt.nodes[event.label].lineage_id,\n",
    "                    \"x\": event.centroid[1],\n",
    "                    \"y\": event.centroid[0],\n",
    "                    \"bbox-0\": event.bbox[0],\n",
    "                    \"bbox-1\": event.bbox[1],\n",
    "                    \"bbox-2\": event.bbox[2],\n",
    "                    \"bbox-3\": event.bbox[3],\n",
    "                }\n",
    "            )\n",
    "\n",
    "    # remap the segmentation\n",
    "    l_remap = remap_segmentation(\n",
    "        pd.DataFrame(data_tmp), \n",
    "        ndarr_events_filt, \n",
    "        timepoint_column=\"timepoint\", \n",
    "        label_column=\"event\", \n",
    "        measure_column=\"lineage\"\n",
    "    )\n",
    "    \n",
    "    return ndarr_events_filt, obj_lin_filt, l_remap"
   ]
  },
  {
   "cell_type": "markdown",
   "id": "a5d2000b",
   "metadata": {},
   "source": [
    "## Track objects in a single simulation"
   ]
  },
  {
   "cell_type": "code",
   "execution_count": 3,
   "id": "a60e7900",
   "metadata": {},
   "outputs": [],
   "source": [
    "# Load the data\n",
    "core_out_dir = \"../../data/1_wave_split_merge_sim/output-data\"\n",
    "sim_id = \"sim_seed017\"\n",
    "data_dir = os.path.join(core_out_dir, sim_id, \"GT\")\n",
    "pred_dir = os.path.join(core_out_dir, sim_id, \"PRED\")\n",
    "lin_mask = np.load(os.path.join(data_dir, \"lineage_masks.npy\"))\n",
    "obj_mask = np.load(os.path.join(data_dir, \"object_masks.npy\"))\n",
    "bin_mask = np.load(os.path.join(data_dir, \"binary_masks.npy\"))"
   ]
  },
  {
   "cell_type": "code",
   "execution_count": 4,
   "id": "40a15ed2",
   "metadata": {},
   "outputs": [],
   "source": [
    "# Open napari image viewer and add the two time lapses\n",
    "if IMG_NAPARI:\n",
    "    if napari.current_viewer() is None:\n",
    "        viewer = napari.Viewer()\n",
    "\n",
    "    viewer.add_image(bin_mask, name='bin_mask', blending='additive', contrast_limits=[0, 1])\n",
    "    viewer.add_labels(obj_mask, name='obj_mask', blending='additive')\n",
    "    viewer.add_labels(lin_mask, name='lin_mask', blending='additive')\n",
    "    viewer = napari.current_viewer()"
   ]
  },
  {
   "cell_type": "code",
   "execution_count": 12,
   "id": "ca974d85",
   "metadata": {},
   "outputs": [],
   "source": [
    "stab_thr = 16\n",
    "ndarr_events_filt, obj_lin_filt, lin_remap = track_events(bin_mask, \n",
    "                                                          min_clustersize=3, \n",
    "                                                          eps=3, \n",
    "                                                          downsample=1, \n",
    "                                                          n_prev=3, \n",
    "                                                          stability_threshold=stab_thr)\n",
    "\n",
    "data, properties, graph = utils.tracker_to_napari_tracks(obj_lin_filt, label_stack=ndarr_events_filt)"
   ]
  },
  {
   "cell_type": "code",
   "execution_count": 13,
   "id": "bff46e0a",
   "metadata": {},
   "outputs": [],
   "source": [
    "# Show events coloured by lineage IDs in napari\n",
    "if IMG_NAPARI:\n",
    "    layer_events_id = viewer.add_labels(ndarr_events_filt, \n",
    "                                        name=\"events_ids\", \n",
    "                                        blending=\"translucent\", opacity=1)\n",
    "        \n",
    "    layer_lin_id = viewer.add_labels(np.array(lin_remap), \n",
    "                                         name=\"lineage_ids\", \n",
    "                                         blending=\"translucent\", opacity=1)\n",
    "    layer_lin_id.new_colormap(seed=17)\n",
    "    layer_lin_id.contour = 1\n",
    "    \n",
    "    viewer.add_tracks(data, properties=properties, graph=graph, name=\"tracks\")"
   ]
  },
  {
   "cell_type": "code",
   "execution_count": null,
   "id": "7d82c890",
   "metadata": {},
   "outputs": [],
   "source": [
    "# Create output directory\n",
    "os.makedirs(pred_dir, exist_ok=True)\n",
    "np.save(os.path.join(pred_dir, \"lineage_masks.npy\"), np.array(lin_remap))"
   ]
  },
  {
   "cell_type": "code",
   "execution_count": 208,
   "id": "028bb30b",
   "metadata": {},
   "outputs": [],
   "source": [
    "# Save current napari view as RGB tif stack\n",
    "core_video_dir = core_out_dir.replace(\"output-data\", \"output-video\")\n",
    "out_video_dir = os.path.join(core_video_dir, sim_id)\n",
    "os.makedirs(out_video_dir, exist_ok=True)\n",
    "\n",
    "if IMG_NAPARI:\n",
    "    rgb_stack = render_as_rgb(viewer, 0, 4)\n",
    "    # imwrite(f\"{out_video_dir}/napariview_stabthr{stab_thr}.tif\", rgb_stack)\n",
    "    imwrite(f\"{out_video_dir}/napariview_obj.tif\", rgb_stack)"
   ]
  },
  {
   "cell_type": "markdown",
   "id": "87dd0ad0",
   "metadata": {},
   "source": [
    "## Process all simulations in the `output-data` folder\n",
    "\n",
    "Load `binary_masks.npy`, process with ARCOS.px and save:\n",
    "\n",
    "- `events_masks_pred.npy` with predicted events,\n",
    "- `lineage_masks_pred.npy` with lineage predictions."
   ]
  },
  {
   "cell_type": "code",
   "execution_count": null,
   "id": "467fbbc7",
   "metadata": {},
   "outputs": [
    {
     "name": "stdout",
     "output_type": "stream",
     "text": [
      "../../data/1_split_merge_sim/output-data/sim_seed007/GT\n",
      "../../data/1_split_merge_sim/output-data/sim_seed011/GT\n",
      "../../data/1_split_merge_sim/output-data/sim_seed013/GT\n",
      "../../data/1_split_merge_sim/output-data/sim_seed017/GT\n",
      "../../data/1_split_merge_sim/output-data/sim_seed019/GT\n",
      "../../data/1_split_merge_sim/output-data/sim_seed023/GT\n",
      "../../data/1_split_merge_sim/output-data/sim_seed031/GT\n",
      "../../data/1_split_merge_sim/output-data/sim_seed037/GT\n",
      "../../data/1_split_merge_sim/output-data/sim_seed041/GT\n",
      "../../data/1_split_merge_sim/output-data/sim_seed042/GT\n",
      "../../data/1_split_merge_sim/output-data/sim_seed043/GT\n",
      "../../data/1_split_merge_sim/output-data/sim_seed047/GT\n",
      "../../data/1_split_merge_sim/output-data/sim_seed101/GT\n",
      "../../data/1_split_merge_sim/output-data/sim_seed123/GT\n",
      "../../data/1_split_merge_sim/output-data/sim_seed202/GT\n",
      "../../data/1_split_merge_sim/output-data/sim_seed303/GT\n",
      "../../data/1_split_merge_sim/output-data/sim_seed404/GT\n",
      "../../data/1_split_merge_sim/output-data/sim_seed456/GT\n",
      "../../data/1_split_merge_sim/output-data/sim_seed505/GT\n",
      "../../data/1_split_merge_sim/output-data/sim_seed606/GT\n",
      "../../data/1_split_merge_sim/output-data/sim_seed789/GT\n"
     ]
    }
   ],
   "source": [
    "core_out_dir = \"../../data/1_wave_split_merge_sim/output-data\"\n",
    "\n",
    "# Loop over all sim folders\n",
    "dirs = glob.glob(os.path.join(core_out_dir, \"sim_seed*/GT\"))\n",
    "dirs.sort()\n",
    "\n",
    "for dir in dirs:\n",
    "    print(dir)\n",
    "    bin_mask = np.load(os.path.join(dir, \"binary_masks.npy\"))\n",
    "    dir_out = dir.replace(\"GT\", \"PRED\")\n",
    "    os.makedirs(dir_out, exist_ok=True)\n",
    "    \n",
    "    # Try different stability thresholds\n",
    "    for stab_thr in [1, 2, 4, 8, 16]:\n",
    "        ndarr_events_filt, obj_lin_filt, lin_remap = track_events(bin_mask, min_clustersize=3, eps=3, downsample=1, n_prev=3, stability_threshold=stab_thr)\n",
    "        \n",
    "        np.save(os.path.join(dir_out, f\"events_masks_stabthr{stab_thr}.npy\"), ndarr_events_filt)\n",
    "        np.save(os.path.join(dir_out, f\"lineage_masks_stabthr{stab_thr}.npy\"), np.array(lin_remap))"
   ]
  },
  {
   "cell_type": "markdown",
   "id": "9370e8f9",
   "metadata": {},
   "source": [
    "# Next step\n",
    "Run `tcompare_sim_track.ipynb` to calculate tracking metrics"
   ]
  }
 ],
 "metadata": {
  "kernelspec": {
   "display_name": "actin_poly_waves_tst",
   "language": "python",
   "name": "python3"
  },
  "language_info": {
   "codemirror_mode": {
    "name": "ipython",
    "version": 3
   },
   "file_extension": ".py",
   "mimetype": "text/x-python",
   "name": "python",
   "nbconvert_exporter": "python",
   "pygments_lexer": "ipython3",
   "version": "3.12.11"
  }
 },
 "nbformat": 4,
 "nbformat_minor": 5
}
